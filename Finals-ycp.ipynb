{
 "cells": [
  {
   "cell_type": "code",
   "execution_count": 1,
   "metadata": {},
   "outputs": [],
   "source": [
    "import pandas as pd\n",
    "import numpy as np \n",
    "import os\n",
    "import glob\n",
    "from pyomo.environ import *"
   ]
  },
  {
   "cell_type": "code",
   "execution_count": 2,
   "metadata": {},
   "outputs": [],
   "source": [
    "#compile raw data\n",
    "path = './raw_1yr/'\n",
    "allFiles = sorted(glob.glob(path+'*.csv'))\n",
    "\n",
    "list_= []\n",
    "\n",
    "for file_ in allFiles:\n",
    "    df = pd.read_csv(file_, index_col=None)\n",
    "    list_.append(df)\n",
    "frame = pd.concat(list_, axis=1, ignore_index = False)\n",
    "\n",
    "#retrieve stock abbre. from file name\n",
    "file_name = os.listdir(path) #get all file names from directory\n",
    "file_name.sort() #sort alphabetically\n",
    "\n",
    "file_name.remove('.DS_Store') #remove DS_Store\n",
    "stock_name = [s.replace('.csv', '') for s in file_name] #remove'.csv'\n",
    "\n",
    "#retrieve date\n",
    "date = list(frame.iloc[:,0])\n",
    "\n",
    "#create main frame\n",
    "framea = frame['Close']\n",
    "framea.columns = stock_name\n",
    "framea.index = date"
   ]
  },
  {
   "cell_type": "code",
   "execution_count": 3,
   "metadata": {},
   "outputs": [],
   "source": [
    "#parameter (please change the value here)\n",
    "#notice that the return is calculated on a daily basis, so if one would like to get a 5% return annually, \n",
    "#the RoR should be 0.002 since (1+0.002)^253 = 0.05 (10% annually: 0.004, 15% annually: 0.0055)\n",
    "\n",
    "UIC = 100000     #Upper intial capital\n",
    "LIC = 50000        #Lower intial capital\n",
    "T   = 126         #Time period (days)\n",
    "RoR = 0.002      #Required rate of return\n",
    "fc  = 50          #Fixed transactional cost\n",
    "pc  = 0.01        #Proportional transactional cost\n",
    "proportion = 0.3\n",
    "\n",
    "#range default\n",
    "stock_j = range(1,102)\n",
    "time_t  = range(1,T+1)"
   ]
  },
  {
   "cell_type": "code",
   "execution_count": 4,
   "metadata": {},
   "outputs": [],
   "source": [
    "#create stock price dictionary\n",
    "d = {}\n",
    "for i in stock_j:\n",
    "    d['p%s' % i] = np.array(framea.iloc[:,i-1])\n",
    "\n",
    "#derive return in given T\n",
    "return_t = {}\n",
    "return_mean = []\n",
    "for j in stock_j:\n",
    "    \n",
    "    returns = []\n",
    "    \n",
    "    for t in time_t: \n",
    "        returns.append( (d['p%s' % j][t]-d['p%s' % j][t-1]) / d['p%s' % j][t-1] ) #d[x][0] is 12/31\n",
    "        \n",
    "    return_t[j] = returns\n",
    "    return_mean.append( sum(returns)/T )\n",
    "\n",
    "risk_diff = {}\n",
    "for j in stock_j:\n",
    "    \n",
    "    risks = []\n",
    "    \n",
    "    for t in time_t: \n",
    "        risks.append(return_t[j][t-1] - return_mean[j-1] ) #return_mean is a list, so location should minus 1\n",
    "    \n",
    "    risk_diff[j] = risks"
   ]
  },
  {
   "cell_type": "code",
   "execution_count": 5,
   "metadata": {},
   "outputs": [],
   "source": [
    "model = ConcreteModel()\n",
    "model.x = Var(stock_j, within = NonNegativeIntegers) #101 variables\n",
    "model.R = Var(time_t, within = NonNegativeReals)\n",
    "model.CC = Var(within=NonNegativeReals)\n",
    "model.zf = Var(within=Binary)\n",
    "model.zp = Var(within=Binary)"
   ]
  },
  {
   "cell_type": "code",
   "execution_count": 6,
   "metadata": {},
   "outputs": [],
   "source": [
    "def risk1(model, t):\n",
    "    return -sum( model.x[j] * risk_diff[j][t-1] for j in stock_j) <= model.R[t]\n",
    "def risk2(model, t):\n",
    "    return model.R[t] >= 0\n",
    "\n",
    "def trans1(model):\n",
    "    return sum( pc * d['p%s' % j][1] * model.x[j] for j in stock_j) >= fc * (1 - model.zf )\n",
    "def trans2(model):\n",
    "    return sum( pc * d['p%s' % j][1] * model.x[j] for j in stock_j) * model.zf <= fc \n",
    "def exclusive(model):\n",
    "    return model.zf == 1 - model.zp\n",
    "\n",
    "def capital(model):\n",
    "    return sum( (1+ pc * model.zp ) * d['p%s' % j][1] * model.x[j] for j in stock_j) + fc * model.zf == model.CC\n",
    "def capital_LIC(model):\n",
    "    return sum( (1+ pc * model.zp ) * d['p%s' % j][1] * model.x[j] for j in stock_j) + fc * model.zf >= LIC\n",
    "def capital_UIC(model):\n",
    "    return sum( (1+ pc * model.zp ) * d['p%s' % j][1] * model.x[j] for j in stock_j) + fc * model.zf <= UIC\n",
    "def require_of_return (model):\n",
    "    return sum(  return_mean[j-1] * d['p%s' % j][1] * model.x[j] for j in stock_j )  >= RoR * model.CC\n",
    "\n",
    "\n",
    "def hold(model, j):\n",
    "    return d['p%s' % j][1] * model.x[j] <= proportion * (model.CC - fc * model.zf)/(1+pc)\n",
    "\n",
    "\n",
    "model.c1 = Constraint(time_t, rule = risk1)\n",
    "model.c2 = Constraint(time_t, rule = risk2)\n",
    "\n",
    "model.c3 = Constraint(rule = trans1)\n",
    "model.c4 = Constraint(rule = trans2)\n",
    "model.c5 = Constraint(rule = exclusive)\n",
    "\n",
    "model.c6 = Constraint(rule = capital)\n",
    "model.c7 = Constraint(rule = capital_LIC)\n",
    "model.c8 = Constraint(rule = capital_UIC)\n",
    "model.c9 = Constraint(rule = require_of_return)\n",
    "model.c10 = Constraint(stock_j, rule = hold)\n"
   ]
  },
  {
   "cell_type": "code",
   "execution_count": 7,
   "metadata": {},
   "outputs": [],
   "source": [
    "def objrule(model):\n",
    "    return sum( model.R[t] for t in time_t) /T"
   ]
  },
  {
   "cell_type": "code",
   "execution_count": 8,
   "metadata": {},
   "outputs": [],
   "source": [
    "model.obj = Objective(rule = objrule, sense = minimize)"
   ]
  },
  {
   "cell_type": "code",
   "execution_count": 9,
   "metadata": {
    "tags": []
   },
   "outputs": [],
   "source": [
    "#model.pprint()"
   ]
  },
  {
   "cell_type": "code",
   "execution_count": 10,
   "metadata": {},
   "outputs": [
    {
     "data": {
      "text/plain": [
       "{'Problem': [{'Lower bound': -inf, 'Upper bound': inf, 'Number of objectives': 1, 'Number of constraints': 360, 'Number of variables': 230, 'Sense': 'unknown'}], 'Solver': [{'Status': 'ok', 'Message': 'Ipopt 3.12.12\\\\x3a Optimal Solution Found', 'Termination condition': 'optimal', 'Id': 0, 'Error rc': 0, 'Time': 0.6820509433746338}], 'Solution': [OrderedDict([('number of solutions', 0), ('number of solutions displayed', 0)])]}"
      ]
     },
     "execution_count": 10,
     "metadata": {},
     "output_type": "execute_result"
    }
   ],
   "source": [
    "solver = SolverFactory('ipopt')\n",
    "solver.solve(model)"
   ]
  },
  {
   "cell_type": "code",
   "execution_count": 11,
   "metadata": {
    "scrolled": false
   },
   "outputs": [],
   "source": [
    "#model.display()"
   ]
  },
  {
   "cell_type": "code",
   "execution_count": 12,
   "metadata": {
    "tags": []
   },
   "outputs": [
    {
     "name": "stdout",
     "output_type": "stream",
     "text": [
      "Risk :  0.327\n",
      "\n",
      "Portfolio:\n",
      "AMZN = 7.82\n",
      "GOOG = 10.86\n",
      "GOOGL = 10.85\n",
      "MELI = 4.05\n",
      "REGN = 1.23\n"
     ]
    }
   ],
   "source": [
    "print(\"Risk : \", round(model.obj(),3))\n",
    "print(\"\")\n",
    "print(\"Portfolio:\")\n",
    "for j in stock_j:\n",
    "    if model.x[j].value >= 1.0:\n",
    "        print(stock_name[j-1],'=', round(model.x[j].value,2))"
   ]
  }
 ],
 "metadata": {
  "kernelspec": {
   "display_name": "Python 3",
   "language": "python",
   "name": "python3"
  },
  "language_info": {
   "codemirror_mode": {
    "name": "ipython",
    "version": 3
   },
   "file_extension": ".py",
   "mimetype": "text/x-python",
   "name": "python",
   "nbconvert_exporter": "python",
   "pygments_lexer": "ipython3",
   "version": "3.8.8"
  }
 },
 "nbformat": 4,
 "nbformat_minor": 4
}
